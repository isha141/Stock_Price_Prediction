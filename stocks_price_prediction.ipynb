{
  "nbformat": 4,
  "nbformat_minor": 0,
  "metadata": {
    "colab": {
      "provenance": [],
      "authorship_tag": "ABX9TyO917lWpMb/KLP8sdpNjzAr",
      "include_colab_link": true
    },
    "kernelspec": {
      "name": "python3",
      "display_name": "Python 3"
    },
    "language_info": {
      "name": "python"
    }
  },
  "cells": [
    {
      "cell_type": "markdown",
      "metadata": {
        "id": "view-in-github",
        "colab_type": "text"
      },
      "source": [
        "<a href=\"https://colab.research.google.com/github/isha141/Stock_Price_Prediction/blob/main/stocks_price_prediction.ipynb\" target=\"_parent\"><img src=\"https://colab.research.google.com/assets/colab-badge.svg\" alt=\"Open In Colab\"/></a>"
      ]
    },
    {
      "cell_type": "code",
      "execution_count": null,
      "metadata": {
        "id": "2fPas_BMPGD4"
      },
      "outputs": [],
      "source": [
        "import numpy as np\n",
        "import pandas as pd\n",
        "import seaborn as sns\n",
        "import matplotlib.pyplot as plt\n"
      ]
    },
    {
      "cell_type": "code",
      "source": [],
      "metadata": {
        "id": "GpLAkmua2O-S"
      },
      "execution_count": null,
      "outputs": []
    },
    {
      "cell_type": "code",
      "source": [
        "df=pd.read_csv('/content/AAPL.csv')"
      ],
      "metadata": {
        "id": "kDTAzPNXPVsg"
      },
      "execution_count": null,
      "outputs": []
    },
    {
      "cell_type": "code",
      "source": [
        "type(df)"
      ],
      "metadata": {
        "colab": {
          "base_uri": "https://localhost:8080/"
        },
        "id": "BLCbIY8s2P7t",
        "outputId": "37a1c1f4-a0f9-428f-f794-8bd08eb20791"
      },
      "execution_count": null,
      "outputs": [
        {
          "output_type": "execute_result",
          "data": {
            "text/plain": [
              "pandas.core.frame.DataFrame"
            ]
          },
          "metadata": {},
          "execution_count": 137
        }
      ]
    },
    {
      "cell_type": "code",
      "source": [
        "df.head()"
      ],
      "metadata": {
        "colab": {
          "base_uri": "https://localhost:8080/",
          "height": 374
        },
        "id": "RO_VMs1OPdLE",
        "outputId": "d88a6a3b-ad33-4171-99a1-535c97033cc6"
      },
      "execution_count": null,
      "outputs": [
        {
          "output_type": "execute_result",
          "data": {
            "text/plain": [
              "   Unnamed: 0 symbol                       date    close     high     low  \\\n",
              "0           0   AAPL  2015-05-27 00:00:00+00:00  132.045  132.260  130.05   \n",
              "1           1   AAPL  2015-05-28 00:00:00+00:00  131.780  131.950  131.10   \n",
              "2           2   AAPL  2015-05-29 00:00:00+00:00  130.280  131.450  129.90   \n",
              "3           3   AAPL  2015-06-01 00:00:00+00:00  130.535  131.390  130.05   \n",
              "4           4   AAPL  2015-06-02 00:00:00+00:00  129.960  130.655  129.32   \n",
              "\n",
              "     open    volume    adjClose     adjHigh      adjLow     adjOpen  \\\n",
              "0  130.34  45833246  121.682558  121.880685  119.844118  120.111360   \n",
              "1  131.86  30733309  121.438354  121.595013  120.811718  121.512076   \n",
              "2  131.23  50884452  120.056069  121.134251  119.705890  120.931516   \n",
              "3  131.20  32112797  120.291057  121.078960  119.844118  120.903870   \n",
              "4  129.86  33667627  119.761181  120.401640  119.171406  119.669029   \n",
              "\n",
              "   adjVolume  divCash  splitFactor  \n",
              "0   45833246      0.0          1.0  \n",
              "1   30733309      0.0          1.0  \n",
              "2   50884452      0.0          1.0  \n",
              "3   32112797      0.0          1.0  \n",
              "4   33667627      0.0          1.0  "
            ],
            "text/html": [
              "\n",
              "\n",
              "  <div id=\"df-50720820-d651-4de8-8cf5-83cffb989897\">\n",
              "    <div class=\"colab-df-container\">\n",
              "      <div>\n",
              "<style scoped>\n",
              "    .dataframe tbody tr th:only-of-type {\n",
              "        vertical-align: middle;\n",
              "    }\n",
              "\n",
              "    .dataframe tbody tr th {\n",
              "        vertical-align: top;\n",
              "    }\n",
              "\n",
              "    .dataframe thead th {\n",
              "        text-align: right;\n",
              "    }\n",
              "</style>\n",
              "<table border=\"1\" class=\"dataframe\">\n",
              "  <thead>\n",
              "    <tr style=\"text-align: right;\">\n",
              "      <th></th>\n",
              "      <th>Unnamed: 0</th>\n",
              "      <th>symbol</th>\n",
              "      <th>date</th>\n",
              "      <th>close</th>\n",
              "      <th>high</th>\n",
              "      <th>low</th>\n",
              "      <th>open</th>\n",
              "      <th>volume</th>\n",
              "      <th>adjClose</th>\n",
              "      <th>adjHigh</th>\n",
              "      <th>adjLow</th>\n",
              "      <th>adjOpen</th>\n",
              "      <th>adjVolume</th>\n",
              "      <th>divCash</th>\n",
              "      <th>splitFactor</th>\n",
              "    </tr>\n",
              "  </thead>\n",
              "  <tbody>\n",
              "    <tr>\n",
              "      <th>0</th>\n",
              "      <td>0</td>\n",
              "      <td>AAPL</td>\n",
              "      <td>2015-05-27 00:00:00+00:00</td>\n",
              "      <td>132.045</td>\n",
              "      <td>132.260</td>\n",
              "      <td>130.05</td>\n",
              "      <td>130.34</td>\n",
              "      <td>45833246</td>\n",
              "      <td>121.682558</td>\n",
              "      <td>121.880685</td>\n",
              "      <td>119.844118</td>\n",
              "      <td>120.111360</td>\n",
              "      <td>45833246</td>\n",
              "      <td>0.0</td>\n",
              "      <td>1.0</td>\n",
              "    </tr>\n",
              "    <tr>\n",
              "      <th>1</th>\n",
              "      <td>1</td>\n",
              "      <td>AAPL</td>\n",
              "      <td>2015-05-28 00:00:00+00:00</td>\n",
              "      <td>131.780</td>\n",
              "      <td>131.950</td>\n",
              "      <td>131.10</td>\n",
              "      <td>131.86</td>\n",
              "      <td>30733309</td>\n",
              "      <td>121.438354</td>\n",
              "      <td>121.595013</td>\n",
              "      <td>120.811718</td>\n",
              "      <td>121.512076</td>\n",
              "      <td>30733309</td>\n",
              "      <td>0.0</td>\n",
              "      <td>1.0</td>\n",
              "    </tr>\n",
              "    <tr>\n",
              "      <th>2</th>\n",
              "      <td>2</td>\n",
              "      <td>AAPL</td>\n",
              "      <td>2015-05-29 00:00:00+00:00</td>\n",
              "      <td>130.280</td>\n",
              "      <td>131.450</td>\n",
              "      <td>129.90</td>\n",
              "      <td>131.23</td>\n",
              "      <td>50884452</td>\n",
              "      <td>120.056069</td>\n",
              "      <td>121.134251</td>\n",
              "      <td>119.705890</td>\n",
              "      <td>120.931516</td>\n",
              "      <td>50884452</td>\n",
              "      <td>0.0</td>\n",
              "      <td>1.0</td>\n",
              "    </tr>\n",
              "    <tr>\n",
              "      <th>3</th>\n",
              "      <td>3</td>\n",
              "      <td>AAPL</td>\n",
              "      <td>2015-06-01 00:00:00+00:00</td>\n",
              "      <td>130.535</td>\n",
              "      <td>131.390</td>\n",
              "      <td>130.05</td>\n",
              "      <td>131.20</td>\n",
              "      <td>32112797</td>\n",
              "      <td>120.291057</td>\n",
              "      <td>121.078960</td>\n",
              "      <td>119.844118</td>\n",
              "      <td>120.903870</td>\n",
              "      <td>32112797</td>\n",
              "      <td>0.0</td>\n",
              "      <td>1.0</td>\n",
              "    </tr>\n",
              "    <tr>\n",
              "      <th>4</th>\n",
              "      <td>4</td>\n",
              "      <td>AAPL</td>\n",
              "      <td>2015-06-02 00:00:00+00:00</td>\n",
              "      <td>129.960</td>\n",
              "      <td>130.655</td>\n",
              "      <td>129.32</td>\n",
              "      <td>129.86</td>\n",
              "      <td>33667627</td>\n",
              "      <td>119.761181</td>\n",
              "      <td>120.401640</td>\n",
              "      <td>119.171406</td>\n",
              "      <td>119.669029</td>\n",
              "      <td>33667627</td>\n",
              "      <td>0.0</td>\n",
              "      <td>1.0</td>\n",
              "    </tr>\n",
              "  </tbody>\n",
              "</table>\n",
              "</div>\n",
              "      <button class=\"colab-df-convert\" onclick=\"convertToInteractive('df-50720820-d651-4de8-8cf5-83cffb989897')\"\n",
              "              title=\"Convert this dataframe to an interactive table.\"\n",
              "              style=\"display:none;\">\n",
              "\n",
              "  <svg xmlns=\"http://www.w3.org/2000/svg\" height=\"24px\"viewBox=\"0 0 24 24\"\n",
              "       width=\"24px\">\n",
              "    <path d=\"M0 0h24v24H0V0z\" fill=\"none\"/>\n",
              "    <path d=\"M18.56 5.44l.94 2.06.94-2.06 2.06-.94-2.06-.94-.94-2.06-.94 2.06-2.06.94zm-11 1L8.5 8.5l.94-2.06 2.06-.94-2.06-.94L8.5 2.5l-.94 2.06-2.06.94zm10 10l.94 2.06.94-2.06 2.06-.94-2.06-.94-.94-2.06-.94 2.06-2.06.94z\"/><path d=\"M17.41 7.96l-1.37-1.37c-.4-.4-.92-.59-1.43-.59-.52 0-1.04.2-1.43.59L10.3 9.45l-7.72 7.72c-.78.78-.78 2.05 0 2.83L4 21.41c.39.39.9.59 1.41.59.51 0 1.02-.2 1.41-.59l7.78-7.78 2.81-2.81c.8-.78.8-2.07 0-2.86zM5.41 20L4 18.59l7.72-7.72 1.47 1.35L5.41 20z\"/>\n",
              "  </svg>\n",
              "      </button>\n",
              "\n",
              "\n",
              "\n",
              "    <div id=\"df-480a6e9f-9b6c-4925-9495-cd21814c658f\">\n",
              "      <button class=\"colab-df-quickchart\" onclick=\"quickchart('df-480a6e9f-9b6c-4925-9495-cd21814c658f')\"\n",
              "              title=\"Suggest charts.\"\n",
              "              style=\"display:none;\">\n",
              "\n",
              "<svg xmlns=\"http://www.w3.org/2000/svg\" height=\"24px\"viewBox=\"0 0 24 24\"\n",
              "     width=\"24px\">\n",
              "    <g>\n",
              "        <path d=\"M19 3H5c-1.1 0-2 .9-2 2v14c0 1.1.9 2 2 2h14c1.1 0 2-.9 2-2V5c0-1.1-.9-2-2-2zM9 17H7v-7h2v7zm4 0h-2V7h2v10zm4 0h-2v-4h2v4z\"/>\n",
              "    </g>\n",
              "</svg>\n",
              "      </button>\n",
              "    </div>\n",
              "\n",
              "<style>\n",
              "  .colab-df-quickchart {\n",
              "    background-color: #E8F0FE;\n",
              "    border: none;\n",
              "    border-radius: 50%;\n",
              "    cursor: pointer;\n",
              "    display: none;\n",
              "    fill: #1967D2;\n",
              "    height: 32px;\n",
              "    padding: 0 0 0 0;\n",
              "    width: 32px;\n",
              "  }\n",
              "\n",
              "  .colab-df-quickchart:hover {\n",
              "    background-color: #E2EBFA;\n",
              "    box-shadow: 0px 1px 2px rgba(60, 64, 67, 0.3), 0px 1px 3px 1px rgba(60, 64, 67, 0.15);\n",
              "    fill: #174EA6;\n",
              "  }\n",
              "\n",
              "  [theme=dark] .colab-df-quickchart {\n",
              "    background-color: #3B4455;\n",
              "    fill: #D2E3FC;\n",
              "  }\n",
              "\n",
              "  [theme=dark] .colab-df-quickchart:hover {\n",
              "    background-color: #434B5C;\n",
              "    box-shadow: 0px 1px 3px 1px rgba(0, 0, 0, 0.15);\n",
              "    filter: drop-shadow(0px 1px 2px rgba(0, 0, 0, 0.3));\n",
              "    fill: #FFFFFF;\n",
              "  }\n",
              "</style>\n",
              "\n",
              "    <script>\n",
              "      async function quickchart(key) {\n",
              "        const containerElement = document.querySelector('#' + key);\n",
              "        const charts = await google.colab.kernel.invokeFunction(\n",
              "            'suggestCharts', [key], {});\n",
              "      }\n",
              "    </script>\n",
              "\n",
              "      <script>\n",
              "\n",
              "function displayQuickchartButton(domScope) {\n",
              "  let quickchartButtonEl =\n",
              "    domScope.querySelector('#df-480a6e9f-9b6c-4925-9495-cd21814c658f button.colab-df-quickchart');\n",
              "  quickchartButtonEl.style.display =\n",
              "    google.colab.kernel.accessAllowed ? 'block' : 'none';\n",
              "}\n",
              "\n",
              "        displayQuickchartButton(document);\n",
              "      </script>\n",
              "      <style>\n",
              "    .colab-df-container {\n",
              "      display:flex;\n",
              "      flex-wrap:wrap;\n",
              "      gap: 12px;\n",
              "    }\n",
              "\n",
              "    .colab-df-convert {\n",
              "      background-color: #E8F0FE;\n",
              "      border: none;\n",
              "      border-radius: 50%;\n",
              "      cursor: pointer;\n",
              "      display: none;\n",
              "      fill: #1967D2;\n",
              "      height: 32px;\n",
              "      padding: 0 0 0 0;\n",
              "      width: 32px;\n",
              "    }\n",
              "\n",
              "    .colab-df-convert:hover {\n",
              "      background-color: #E2EBFA;\n",
              "      box-shadow: 0px 1px 2px rgba(60, 64, 67, 0.3), 0px 1px 3px 1px rgba(60, 64, 67, 0.15);\n",
              "      fill: #174EA6;\n",
              "    }\n",
              "\n",
              "    [theme=dark] .colab-df-convert {\n",
              "      background-color: #3B4455;\n",
              "      fill: #D2E3FC;\n",
              "    }\n",
              "\n",
              "    [theme=dark] .colab-df-convert:hover {\n",
              "      background-color: #434B5C;\n",
              "      box-shadow: 0px 1px 3px 1px rgba(0, 0, 0, 0.15);\n",
              "      filter: drop-shadow(0px 1px 2px rgba(0, 0, 0, 0.3));\n",
              "      fill: #FFFFFF;\n",
              "    }\n",
              "  </style>\n",
              "\n",
              "      <script>\n",
              "        const buttonEl =\n",
              "          document.querySelector('#df-50720820-d651-4de8-8cf5-83cffb989897 button.colab-df-convert');\n",
              "        buttonEl.style.display =\n",
              "          google.colab.kernel.accessAllowed ? 'block' : 'none';\n",
              "\n",
              "        async function convertToInteractive(key) {\n",
              "          const element = document.querySelector('#df-50720820-d651-4de8-8cf5-83cffb989897');\n",
              "          const dataTable =\n",
              "            await google.colab.kernel.invokeFunction('convertToInteractive',\n",
              "                                                     [key], {});\n",
              "          if (!dataTable) return;\n",
              "\n",
              "          const docLinkHtml = 'Like what you see? Visit the ' +\n",
              "            '<a target=\"_blank\" href=https://colab.research.google.com/notebooks/data_table.ipynb>data table notebook</a>'\n",
              "            + ' to learn more about interactive tables.';\n",
              "          element.innerHTML = '';\n",
              "          dataTable['output_type'] = 'display_data';\n",
              "          await google.colab.output.renderOutput(dataTable, element);\n",
              "          const docLink = document.createElement('div');\n",
              "          docLink.innerHTML = docLinkHtml;\n",
              "          element.appendChild(docLink);\n",
              "        }\n",
              "      </script>\n",
              "    </div>\n",
              "  </div>\n"
            ]
          },
          "metadata": {},
          "execution_count": 138
        }
      ]
    },
    {
      "cell_type": "code",
      "source": [
        "df.shape"
      ],
      "metadata": {
        "colab": {
          "base_uri": "https://localhost:8080/"
        },
        "id": "bmjuVOEXPfSk",
        "outputId": "7c1e3e7e-8934-4300-825c-2b5ec13720b1"
      },
      "execution_count": null,
      "outputs": [
        {
          "output_type": "execute_result",
          "data": {
            "text/plain": [
              "(1258, 15)"
            ]
          },
          "metadata": {},
          "execution_count": 139
        }
      ]
    },
    {
      "cell_type": "code",
      "source": [
        "df.info()"
      ],
      "metadata": {
        "colab": {
          "base_uri": "https://localhost:8080/"
        },
        "id": "4h1xht7uPhU0",
        "outputId": "4ac05e56-8d69-4698-dd7b-47a4c9d66f35"
      },
      "execution_count": null,
      "outputs": [
        {
          "output_type": "stream",
          "name": "stdout",
          "text": [
            "<class 'pandas.core.frame.DataFrame'>\n",
            "RangeIndex: 1258 entries, 0 to 1257\n",
            "Data columns (total 15 columns):\n",
            " #   Column       Non-Null Count  Dtype  \n",
            "---  ------       --------------  -----  \n",
            " 0   Unnamed: 0   1258 non-null   int64  \n",
            " 1   symbol       1258 non-null   object \n",
            " 2   date         1258 non-null   object \n",
            " 3   close        1258 non-null   float64\n",
            " 4   high         1258 non-null   float64\n",
            " 5   low          1258 non-null   float64\n",
            " 6   open         1258 non-null   float64\n",
            " 7   volume       1258 non-null   int64  \n",
            " 8   adjClose     1258 non-null   float64\n",
            " 9   adjHigh      1258 non-null   float64\n",
            " 10  adjLow       1258 non-null   float64\n",
            " 11  adjOpen      1258 non-null   float64\n",
            " 12  adjVolume    1258 non-null   int64  \n",
            " 13  divCash      1258 non-null   float64\n",
            " 14  splitFactor  1258 non-null   float64\n",
            "dtypes: float64(10), int64(3), object(2)\n",
            "memory usage: 147.5+ KB\n"
          ]
        }
      ]
    },
    {
      "cell_type": "code",
      "source": [
        "df.describe()\n"
      ],
      "metadata": {
        "colab": {
          "base_uri": "https://localhost:8080/",
          "height": 364
        },
        "id": "ol555QbsPk43",
        "outputId": "7f64bc8c-6b9d-423a-e705-3dc6e2076aab"
      },
      "execution_count": null,
      "outputs": [
        {
          "output_type": "execute_result",
          "data": {
            "text/plain": [
              "        Unnamed: 0        close         high          low         open  \\\n",
              "count  1258.000000  1258.000000  1258.000000  1258.000000  1258.000000   \n",
              "mean    628.500000   167.723998   169.230475   166.039780   167.548266   \n",
              "std     363.297628    56.850796    57.500128    56.006773    56.612707   \n",
              "min       0.000000    90.340000    91.670000    89.470000    90.000000   \n",
              "25%     314.250000   116.327500   117.405000   115.602500   116.482500   \n",
              "50%     628.500000   160.485000   162.080000   158.974250   160.345000   \n",
              "75%     942.750000   199.785000   201.277500   198.170000   199.520000   \n",
              "max    1257.000000   327.200000   327.850000   323.350000   324.730000   \n",
              "\n",
              "             volume     adjClose      adjHigh       adjLow      adjOpen  \\\n",
              "count  1.258000e+03  1258.000000  1258.000000  1258.000000  1258.000000   \n",
              "mean   3.500397e+07   162.666715   164.131054   161.028013   162.493082   \n",
              "std    1.729100e+07    58.733820    59.402842    57.869246    58.494560   \n",
              "min    1.136204e+07    84.954351    86.205062    84.136216    84.634620   \n",
              "25%    2.359205e+07   109.484490   110.393556   107.962457   109.135002   \n",
              "50%    3.064771e+07   154.710645   156.091874   153.054341   154.410017   \n",
              "75%    4.100487e+07   196.960053   198.428438   195.281553   196.452903   \n",
              "max    1.622063e+08   326.337147   326.357095   322.497300   323.873661   \n",
              "\n",
              "          adjVolume      divCash  splitFactor  \n",
              "count  1.258000e+03  1258.000000       1258.0  \n",
              "mean   3.500397e+07     0.010477          1.0  \n",
              "std    1.729100e+07     0.083366          0.0  \n",
              "min    1.136204e+07     0.000000          1.0  \n",
              "25%    2.359205e+07     0.000000          1.0  \n",
              "50%    3.064771e+07     0.000000          1.0  \n",
              "75%    4.100487e+07     0.000000          1.0  \n",
              "max    1.622063e+08     0.820000          1.0  "
            ],
            "text/html": [
              "\n",
              "\n",
              "  <div id=\"df-a5e16a23-82ab-415f-8029-0b3a178aea77\">\n",
              "    <div class=\"colab-df-container\">\n",
              "      <div>\n",
              "<style scoped>\n",
              "    .dataframe tbody tr th:only-of-type {\n",
              "        vertical-align: middle;\n",
              "    }\n",
              "\n",
              "    .dataframe tbody tr th {\n",
              "        vertical-align: top;\n",
              "    }\n",
              "\n",
              "    .dataframe thead th {\n",
              "        text-align: right;\n",
              "    }\n",
              "</style>\n",
              "<table border=\"1\" class=\"dataframe\">\n",
              "  <thead>\n",
              "    <tr style=\"text-align: right;\">\n",
              "      <th></th>\n",
              "      <th>Unnamed: 0</th>\n",
              "      <th>close</th>\n",
              "      <th>high</th>\n",
              "      <th>low</th>\n",
              "      <th>open</th>\n",
              "      <th>volume</th>\n",
              "      <th>adjClose</th>\n",
              "      <th>adjHigh</th>\n",
              "      <th>adjLow</th>\n",
              "      <th>adjOpen</th>\n",
              "      <th>adjVolume</th>\n",
              "      <th>divCash</th>\n",
              "      <th>splitFactor</th>\n",
              "    </tr>\n",
              "  </thead>\n",
              "  <tbody>\n",
              "    <tr>\n",
              "      <th>count</th>\n",
              "      <td>1258.000000</td>\n",
              "      <td>1258.000000</td>\n",
              "      <td>1258.000000</td>\n",
              "      <td>1258.000000</td>\n",
              "      <td>1258.000000</td>\n",
              "      <td>1.258000e+03</td>\n",
              "      <td>1258.000000</td>\n",
              "      <td>1258.000000</td>\n",
              "      <td>1258.000000</td>\n",
              "      <td>1258.000000</td>\n",
              "      <td>1.258000e+03</td>\n",
              "      <td>1258.000000</td>\n",
              "      <td>1258.0</td>\n",
              "    </tr>\n",
              "    <tr>\n",
              "      <th>mean</th>\n",
              "      <td>628.500000</td>\n",
              "      <td>167.723998</td>\n",
              "      <td>169.230475</td>\n",
              "      <td>166.039780</td>\n",
              "      <td>167.548266</td>\n",
              "      <td>3.500397e+07</td>\n",
              "      <td>162.666715</td>\n",
              "      <td>164.131054</td>\n",
              "      <td>161.028013</td>\n",
              "      <td>162.493082</td>\n",
              "      <td>3.500397e+07</td>\n",
              "      <td>0.010477</td>\n",
              "      <td>1.0</td>\n",
              "    </tr>\n",
              "    <tr>\n",
              "      <th>std</th>\n",
              "      <td>363.297628</td>\n",
              "      <td>56.850796</td>\n",
              "      <td>57.500128</td>\n",
              "      <td>56.006773</td>\n",
              "      <td>56.612707</td>\n",
              "      <td>1.729100e+07</td>\n",
              "      <td>58.733820</td>\n",
              "      <td>59.402842</td>\n",
              "      <td>57.869246</td>\n",
              "      <td>58.494560</td>\n",
              "      <td>1.729100e+07</td>\n",
              "      <td>0.083366</td>\n",
              "      <td>0.0</td>\n",
              "    </tr>\n",
              "    <tr>\n",
              "      <th>min</th>\n",
              "      <td>0.000000</td>\n",
              "      <td>90.340000</td>\n",
              "      <td>91.670000</td>\n",
              "      <td>89.470000</td>\n",
              "      <td>90.000000</td>\n",
              "      <td>1.136204e+07</td>\n",
              "      <td>84.954351</td>\n",
              "      <td>86.205062</td>\n",
              "      <td>84.136216</td>\n",
              "      <td>84.634620</td>\n",
              "      <td>1.136204e+07</td>\n",
              "      <td>0.000000</td>\n",
              "      <td>1.0</td>\n",
              "    </tr>\n",
              "    <tr>\n",
              "      <th>25%</th>\n",
              "      <td>314.250000</td>\n",
              "      <td>116.327500</td>\n",
              "      <td>117.405000</td>\n",
              "      <td>115.602500</td>\n",
              "      <td>116.482500</td>\n",
              "      <td>2.359205e+07</td>\n",
              "      <td>109.484490</td>\n",
              "      <td>110.393556</td>\n",
              "      <td>107.962457</td>\n",
              "      <td>109.135002</td>\n",
              "      <td>2.359205e+07</td>\n",
              "      <td>0.000000</td>\n",
              "      <td>1.0</td>\n",
              "    </tr>\n",
              "    <tr>\n",
              "      <th>50%</th>\n",
              "      <td>628.500000</td>\n",
              "      <td>160.485000</td>\n",
              "      <td>162.080000</td>\n",
              "      <td>158.974250</td>\n",
              "      <td>160.345000</td>\n",
              "      <td>3.064771e+07</td>\n",
              "      <td>154.710645</td>\n",
              "      <td>156.091874</td>\n",
              "      <td>153.054341</td>\n",
              "      <td>154.410017</td>\n",
              "      <td>3.064771e+07</td>\n",
              "      <td>0.000000</td>\n",
              "      <td>1.0</td>\n",
              "    </tr>\n",
              "    <tr>\n",
              "      <th>75%</th>\n",
              "      <td>942.750000</td>\n",
              "      <td>199.785000</td>\n",
              "      <td>201.277500</td>\n",
              "      <td>198.170000</td>\n",
              "      <td>199.520000</td>\n",
              "      <td>4.100487e+07</td>\n",
              "      <td>196.960053</td>\n",
              "      <td>198.428438</td>\n",
              "      <td>195.281553</td>\n",
              "      <td>196.452903</td>\n",
              "      <td>4.100487e+07</td>\n",
              "      <td>0.000000</td>\n",
              "      <td>1.0</td>\n",
              "    </tr>\n",
              "    <tr>\n",
              "      <th>max</th>\n",
              "      <td>1257.000000</td>\n",
              "      <td>327.200000</td>\n",
              "      <td>327.850000</td>\n",
              "      <td>323.350000</td>\n",
              "      <td>324.730000</td>\n",
              "      <td>1.622063e+08</td>\n",
              "      <td>326.337147</td>\n",
              "      <td>326.357095</td>\n",
              "      <td>322.497300</td>\n",
              "      <td>323.873661</td>\n",
              "      <td>1.622063e+08</td>\n",
              "      <td>0.820000</td>\n",
              "      <td>1.0</td>\n",
              "    </tr>\n",
              "  </tbody>\n",
              "</table>\n",
              "</div>\n",
              "      <button class=\"colab-df-convert\" onclick=\"convertToInteractive('df-a5e16a23-82ab-415f-8029-0b3a178aea77')\"\n",
              "              title=\"Convert this dataframe to an interactive table.\"\n",
              "              style=\"display:none;\">\n",
              "\n",
              "  <svg xmlns=\"http://www.w3.org/2000/svg\" height=\"24px\"viewBox=\"0 0 24 24\"\n",
              "       width=\"24px\">\n",
              "    <path d=\"M0 0h24v24H0V0z\" fill=\"none\"/>\n",
              "    <path d=\"M18.56 5.44l.94 2.06.94-2.06 2.06-.94-2.06-.94-.94-2.06-.94 2.06-2.06.94zm-11 1L8.5 8.5l.94-2.06 2.06-.94-2.06-.94L8.5 2.5l-.94 2.06-2.06.94zm10 10l.94 2.06.94-2.06 2.06-.94-2.06-.94-.94-2.06-.94 2.06-2.06.94z\"/><path d=\"M17.41 7.96l-1.37-1.37c-.4-.4-.92-.59-1.43-.59-.52 0-1.04.2-1.43.59L10.3 9.45l-7.72 7.72c-.78.78-.78 2.05 0 2.83L4 21.41c.39.39.9.59 1.41.59.51 0 1.02-.2 1.41-.59l7.78-7.78 2.81-2.81c.8-.78.8-2.07 0-2.86zM5.41 20L4 18.59l7.72-7.72 1.47 1.35L5.41 20z\"/>\n",
              "  </svg>\n",
              "      </button>\n",
              "\n",
              "\n",
              "\n",
              "    <div id=\"df-88bed197-72d0-4538-bfa2-a2202b481794\">\n",
              "      <button class=\"colab-df-quickchart\" onclick=\"quickchart('df-88bed197-72d0-4538-bfa2-a2202b481794')\"\n",
              "              title=\"Suggest charts.\"\n",
              "              style=\"display:none;\">\n",
              "\n",
              "<svg xmlns=\"http://www.w3.org/2000/svg\" height=\"24px\"viewBox=\"0 0 24 24\"\n",
              "     width=\"24px\">\n",
              "    <g>\n",
              "        <path d=\"M19 3H5c-1.1 0-2 .9-2 2v14c0 1.1.9 2 2 2h14c1.1 0 2-.9 2-2V5c0-1.1-.9-2-2-2zM9 17H7v-7h2v7zm4 0h-2V7h2v10zm4 0h-2v-4h2v4z\"/>\n",
              "    </g>\n",
              "</svg>\n",
              "      </button>\n",
              "    </div>\n",
              "\n",
              "<style>\n",
              "  .colab-df-quickchart {\n",
              "    background-color: #E8F0FE;\n",
              "    border: none;\n",
              "    border-radius: 50%;\n",
              "    cursor: pointer;\n",
              "    display: none;\n",
              "    fill: #1967D2;\n",
              "    height: 32px;\n",
              "    padding: 0 0 0 0;\n",
              "    width: 32px;\n",
              "  }\n",
              "\n",
              "  .colab-df-quickchart:hover {\n",
              "    background-color: #E2EBFA;\n",
              "    box-shadow: 0px 1px 2px rgba(60, 64, 67, 0.3), 0px 1px 3px 1px rgba(60, 64, 67, 0.15);\n",
              "    fill: #174EA6;\n",
              "  }\n",
              "\n",
              "  [theme=dark] .colab-df-quickchart {\n",
              "    background-color: #3B4455;\n",
              "    fill: #D2E3FC;\n",
              "  }\n",
              "\n",
              "  [theme=dark] .colab-df-quickchart:hover {\n",
              "    background-color: #434B5C;\n",
              "    box-shadow: 0px 1px 3px 1px rgba(0, 0, 0, 0.15);\n",
              "    filter: drop-shadow(0px 1px 2px rgba(0, 0, 0, 0.3));\n",
              "    fill: #FFFFFF;\n",
              "  }\n",
              "</style>\n",
              "\n",
              "    <script>\n",
              "      async function quickchart(key) {\n",
              "        const containerElement = document.querySelector('#' + key);\n",
              "        const charts = await google.colab.kernel.invokeFunction(\n",
              "            'suggestCharts', [key], {});\n",
              "      }\n",
              "    </script>\n",
              "\n",
              "      <script>\n",
              "\n",
              "function displayQuickchartButton(domScope) {\n",
              "  let quickchartButtonEl =\n",
              "    domScope.querySelector('#df-88bed197-72d0-4538-bfa2-a2202b481794 button.colab-df-quickchart');\n",
              "  quickchartButtonEl.style.display =\n",
              "    google.colab.kernel.accessAllowed ? 'block' : 'none';\n",
              "}\n",
              "\n",
              "        displayQuickchartButton(document);\n",
              "      </script>\n",
              "      <style>\n",
              "    .colab-df-container {\n",
              "      display:flex;\n",
              "      flex-wrap:wrap;\n",
              "      gap: 12px;\n",
              "    }\n",
              "\n",
              "    .colab-df-convert {\n",
              "      background-color: #E8F0FE;\n",
              "      border: none;\n",
              "      border-radius: 50%;\n",
              "      cursor: pointer;\n",
              "      display: none;\n",
              "      fill: #1967D2;\n",
              "      height: 32px;\n",
              "      padding: 0 0 0 0;\n",
              "      width: 32px;\n",
              "    }\n",
              "\n",
              "    .colab-df-convert:hover {\n",
              "      background-color: #E2EBFA;\n",
              "      box-shadow: 0px 1px 2px rgba(60, 64, 67, 0.3), 0px 1px 3px 1px rgba(60, 64, 67, 0.15);\n",
              "      fill: #174EA6;\n",
              "    }\n",
              "\n",
              "    [theme=dark] .colab-df-convert {\n",
              "      background-color: #3B4455;\n",
              "      fill: #D2E3FC;\n",
              "    }\n",
              "\n",
              "    [theme=dark] .colab-df-convert:hover {\n",
              "      background-color: #434B5C;\n",
              "      box-shadow: 0px 1px 3px 1px rgba(0, 0, 0, 0.15);\n",
              "      filter: drop-shadow(0px 1px 2px rgba(0, 0, 0, 0.3));\n",
              "      fill: #FFFFFF;\n",
              "    }\n",
              "  </style>\n",
              "\n",
              "      <script>\n",
              "        const buttonEl =\n",
              "          document.querySelector('#df-a5e16a23-82ab-415f-8029-0b3a178aea77 button.colab-df-convert');\n",
              "        buttonEl.style.display =\n",
              "          google.colab.kernel.accessAllowed ? 'block' : 'none';\n",
              "\n",
              "        async function convertToInteractive(key) {\n",
              "          const element = document.querySelector('#df-a5e16a23-82ab-415f-8029-0b3a178aea77');\n",
              "          const dataTable =\n",
              "            await google.colab.kernel.invokeFunction('convertToInteractive',\n",
              "                                                     [key], {});\n",
              "          if (!dataTable) return;\n",
              "\n",
              "          const docLinkHtml = 'Like what you see? Visit the ' +\n",
              "            '<a target=\"_blank\" href=https://colab.research.google.com/notebooks/data_table.ipynb>data table notebook</a>'\n",
              "            + ' to learn more about interactive tables.';\n",
              "          element.innerHTML = '';\n",
              "          dataTable['output_type'] = 'display_data';\n",
              "          await google.colab.output.renderOutput(dataTable, element);\n",
              "          const docLink = document.createElement('div');\n",
              "          docLink.innerHTML = docLinkHtml;\n",
              "          element.appendChild(docLink);\n",
              "        }\n",
              "      </script>\n",
              "    </div>\n",
              "  </div>\n"
            ]
          },
          "metadata": {},
          "execution_count": 141
        }
      ]
    },
    {
      "cell_type": "code",
      "source": [
        "df.columns"
      ],
      "metadata": {
        "colab": {
          "base_uri": "https://localhost:8080/"
        },
        "id": "BvfRzGc_ud1k",
        "outputId": "65238438-38c7-4ca7-8fc1-ea0e56fffce7"
      },
      "execution_count": null,
      "outputs": [
        {
          "output_type": "execute_result",
          "data": {
            "text/plain": [
              "Index(['Unnamed: 0', 'symbol', 'date', 'close', 'high', 'low', 'open',\n",
              "       'volume', 'adjClose', 'adjHigh', 'adjLow', 'adjOpen', 'adjVolume',\n",
              "       'divCash', 'splitFactor'],\n",
              "      dtype='object')"
            ]
          },
          "metadata": {},
          "execution_count": 142
        }
      ]
    },
    {
      "cell_type": "code",
      "source": [
        "df[['open','high','low','close','adjClose']].plot(kind='box')"
      ],
      "metadata": {
        "colab": {
          "base_uri": "https://localhost:8080/",
          "height": 447
        },
        "id": "BXEMzHkSqV5A",
        "outputId": "c483fdc2-088f-4c41-ff9b-30cc411f2f90"
      },
      "execution_count": null,
      "outputs": [
        {
          "output_type": "execute_result",
          "data": {
            "text/plain": [
              "<Axes: >"
            ]
          },
          "metadata": {},
          "execution_count": 143
        },
        {
          "output_type": "display_data",
          "data": {
            "text/plain": [
              "<Figure size 640x480 with 1 Axes>"
            ],
            "image/png": "[encoded data removed]"
          },
          "metadata": {}
        }
      ]
    },
    {
      "cell_type": "code",
      "source": [
        "df.isnull().sum()  #checking for null values"
      ],
      "metadata": {
        "colab": {
          "base_uri": "https://localhost:8080/"
        },
        "id": "OrEAYOcaPqMb",
        "outputId": "f4c2c848-a3da-4404-da09-0512331d6f69"
      },
      "execution_count": null,
      "outputs": [
        {
          "output_type": "execute_result",
          "data": {
            "text/plain": [
              "Unnamed: 0     0\n",
              "symbol         0\n",
              "date           0\n",
              "close          0\n",
              "high           0\n",
              "low            0\n",
              "open           0\n",
              "volume         0\n",
              "adjClose       0\n",
              "adjHigh        0\n",
              "adjLow         0\n",
              "adjOpen        0\n",
              "adjVolume      0\n",
              "divCash        0\n",
              "splitFactor    0\n",
              "dtype: int64"
            ]
          },
          "metadata": {},
          "execution_count": 144
        }
      ]
    },
    {
      "cell_type": "code",
      "source": [
        "training_set=df.iloc[:,4:5].values"
      ],
      "metadata": {
        "id": "t0U8FOMlPsN8"
      },
      "execution_count": null,
      "outputs": []
    },
    {
      "cell_type": "code",
      "source": [
        "print(training_set)"
      ],
      "metadata": {
        "colab": {
          "base_uri": "https://localhost:8080/"
        },
        "id": "R4GSIe1jQB5F",
        "outputId": "14b5a9de-16fb-43c8-a716-c90a5a50d4b2"
      },
      "execution_count": null,
      "outputs": [
        {
          "output_type": "stream",
          "name": "stdout",
          "text": [
            "[[132.26]\n",
            " [131.95]\n",
            " [131.45]\n",
            " ...\n",
            " [319.52]\n",
            " [320.89]\n",
            " [319.23]]\n"
          ]
        }
      ]
    },
    {
      "cell_type": "code",
      "source": [
        "training_set.shape"
      ],
      "metadata": {
        "colab": {
          "base_uri": "https://localhost:8080/"
        },
        "id": "9KKCUYRVQIhW",
        "outputId": "7d431df9-2848-443b-dc6c-068ad05d6a89"
      },
      "execution_count": null,
      "outputs": [
        {
          "output_type": "execute_result",
          "data": {
            "text/plain": [
              "(1258, 1)"
            ]
          },
          "metadata": {},
          "execution_count": 147
        }
      ]
    },
    {
      "cell_type": "markdown",
      "source": [
        "Normalizing The Dataset\n",
        "\n",
        "```\n",
        "# This is formatted as code\n",
        "```\n",
        "\n"
      ],
      "metadata": {
        "id": "Ktd_ZtoZRLlR"
      }
    },
    {
      "cell_type": "code",
      "source": [
        "pl=df['open'].plot(c='blue')"
      ],
      "metadata": {
        "colab": {
          "base_uri": "https://localhost:8080/",
          "height": 430
        },
        "id": "TsgwltlwVVvE",
        "outputId": "0c6f34ab-9dc6-4a55-8aeb-4bd38520a104"
      },
      "execution_count": null,
      "outputs": [
        {
          "output_type": "display_data",
          "data": {
            "text/plain": [
              "<Figure size 640x480 with 1 Axes>"
            ],
            "image/png": "[encoded data removed]"
          },
          "metadata": {}
        }
      ]
    },
    {
      "cell_type": "code",
      "source": [
        "from sklearn.preprocessing import MinMaxScaler    ##  for processing the data\n",
        "scaler=MinMaxScaler(feature_range=(0,1))\n",
        "scaled_training_set=scaler.fit_transform(training_set)"
      ],
      "metadata": {
        "id": "BZum5N-6s9fW"
      },
      "execution_count": null,
      "outputs": []
    },
    {
      "cell_type": "code",
      "source": [
        "scaled_training_set"
      ],
      "metadata": {
        "colab": {
          "base_uri": "https://localhost:8080/"
        },
        "id": "squ6vNL6Rslf",
        "outputId": "e8fed510-f173-46ac-c5bd-35412018d315"
      },
      "execution_count": null,
      "outputs": [
        {
          "output_type": "execute_result",
          "data": {
            "text/plain": [
              "array([[0.17186045],\n",
              "       [0.17054789],\n",
              "       [0.16843086],\n",
              "       ...,\n",
              "       [0.96473029],\n",
              "       [0.97053095],\n",
              "       [0.96350241]])"
            ]
          },
          "metadata": {},
          "execution_count": 150
        }
      ]
    },
    {
      "cell_type": "markdown",
      "source": [
        "Creating X_train and y_train"
      ],
      "metadata": {
        "id": "Jk3dwB51R4JV"
      }
    },
    {
      "cell_type": "code",
      "source": [
        "x_train=[]\n",
        "y_train=[]\n",
        "\n",
        "for i in range(130,500):\n",
        "    x_train.append(scaled_training_set[i-60:i,0])\n",
        "    y_train.append(scaled_training_set[i,0])\n",
        "x_train=np.array(x_train)\n",
        "y_train=np.array(y_train)"
      ],
      "metadata": {
        "id": "iLivK3ooR4u-"
      },
      "execution_count": null,
      "outputs": []
    },
    {
      "cell_type": "code",
      "source": [
        "print(x_train.shape)\n"
      ],
      "metadata": {
        "colab": {
          "base_uri": "https://localhost:8080/"
        },
        "id": "RMTGDtJNS1Gw",
        "outputId": "9ff2f4a4-67c3-4e86-bfe1-8bc875e95eef"
      },
      "execution_count": null,
      "outputs": [
        {
          "output_type": "stream",
          "name": "stdout",
          "text": [
            "(370, 60)\n"
          ]
        }
      ]
    },
    {
      "cell_type": "code",
      "source": [
        "print(y_train.shape)"
      ],
      "metadata": {
        "colab": {
          "base_uri": "https://localhost:8080/"
        },
        "id": "E1-cJ90ZS8uI",
        "outputId": "4d877097-7373-4a27-f70d-88206e6fddec"
      },
      "execution_count": null,
      "outputs": [
        {
          "output_type": "stream",
          "name": "stdout",
          "text": [
            "(370,)\n"
          ]
        }
      ]
    },
    {
      "cell_type": "markdown",
      "source": [
        "Reshape The Data"
      ],
      "metadata": {
        "id": "JgIy4QkxTHyx"
      }
    },
    {
      "cell_type": "code",
      "source": [
        "x_train=np.reshape(x_train,(x_train.shape[0],x_train.shape[1],1))"
      ],
      "metadata": {
        "id": "W5NimyakTJor"
      },
      "execution_count": null,
      "outputs": []
    },
    {
      "cell_type": "code",
      "source": [
        "x_train.shape"
      ],
      "metadata": {
        "colab": {
          "base_uri": "https://localhost:8080/"
        },
        "id": "B_OnT4jbTLGU",
        "outputId": "f85da633-6cb1-4339-a653-546c9dabcfdf"
      },
      "execution_count": null,
      "outputs": [
        {
          "output_type": "execute_result",
          "data": {
            "text/plain": [
              "(370, 60, 1)"
            ]
          },
          "metadata": {},
          "execution_count": 155
        }
      ]
    },
    {
      "cell_type": "markdown",
      "source": [
        "Building The model"
      ],
      "metadata": {
        "id": "9mlttDzbTdbt"
      }
    },
    {
      "cell_type": "code",
      "source": [
        "from keras.models import Sequential\n",
        "from keras.layers import LSTM\n",
        "from keras.layers import Dense\n",
        "from keras.layers import Dropout"
      ],
      "metadata": {
        "id": "tM9pboxoTeim"
      },
      "execution_count": null,
      "outputs": []
    },
    {
      "cell_type": "code",
      "source": [
        "regressor =Sequential()\n",
        "\n",
        "regressor.add(LSTM(units=50, return_sequences=True, input_shape=(x_train.shape[1],1)))\n",
        "regressor.add(Dropout(0.2))\n",
        "\n",
        "regressor.add(LSTM(units=50, return_sequences=True,))\n",
        "regressor.add(Dropout(0.2))\n",
        "\n",
        "regressor.add(LSTM(units=50, return_sequences=True))\n",
        "regressor.add(Dropout(0.2))\n",
        "\n",
        "regressor.add(LSTM(units=50))\n",
        "regressor.add(Dropout(0.2))\n",
        "\n",
        "regressor.add(Dense(units=1))\n"
      ],
      "metadata": {
        "id": "ageI2CsVTw29"
      },
      "execution_count": null,
      "outputs": []
    },
    {
      "cell_type": "markdown",
      "source": [
        "Fiiting the model\n"
      ],
      "metadata": {
        "id": "v7OvV7HMViQv"
      }
    },
    {
      "cell_type": "code",
      "source": [
        "regressor.compile(optimizer='adam' , loss='mean_squared_error')\n",
        "regressor.fit(x_train,y_train,epochs=100,batch_size=32)"
      ],
      "metadata": {
        "colab": {
          "base_uri": "https://localhost:8080/"
        },
        "id": "jGDSfWx3Vjd4",
        "outputId": "4f16a618-fe00-42b4-bc06-02605e003ad0"
      },
      "execution_count": null,
      "outputs": [
        {
          "output_type": "stream",
          "name": "stdout",
          "text": [
            "Epoch 1/100\n",
            "12/12 [==============================] - 12s 131ms/step - loss: 0.0039\n",
            "Epoch 2/100\n",
            "12/12 [==============================] - 2s 166ms/step - loss: 0.0015\n",
            "Epoch 3/100\n",
            "12/12 [==============================] - 2s 197ms/step - loss: 0.0011\n",
            "Epoch 4/100\n",
            "12/12 [==============================] - 2s 131ms/step - loss: 9.1730e-04\n",
            "Epoch 5/100\n",
            "12/12 [==============================] - 2s 132ms/step - loss: 6.9355e-04\n",
            "Epoch 6/100\n",
            "12/12 [==============================] - 2s 126ms/step - loss: 5.7304e-04\n",
            "Epoch 7/100\n",
            "12/12 [==============================] - 1s 123ms/step - loss: 5.8200e-04\n",
            "Epoch 8/100\n",
            "12/12 [==============================] - 2s 134ms/step - loss: 6.5500e-04\n",
            "Epoch 9/100\n",
            "12/12 [==============================] - 1s 120ms/step - loss: 5.2737e-04\n",
            "Epoch 10/100\n",
            "12/12 [==============================] - 3s 217ms/step - loss: 4.8257e-04\n",
            "Epoch 11/100\n",
            "12/12 [==============================] - 2s 143ms/step - loss: 4.7973e-04\n",
            "Epoch 12/100\n",
            "12/12 [==============================] - 2s 140ms/step - loss: 4.9879e-04\n",
            "Epoch 13/100\n",
            "12/12 [==============================] - 1s 122ms/step - loss: 4.8464e-04\n",
            "Epoch 14/100\n",
            "12/12 [==============================] - 2s 133ms/step - loss: 3.8339e-04\n",
            "Epoch 15/100\n",
            "12/12 [==============================] - 2s 128ms/step - loss: 3.8499e-04\n",
            "Epoch 16/100\n",
            "12/12 [==============================] - 2s 125ms/step - loss: 4.6374e-04\n",
            "Epoch 17/100\n",
            "12/12 [==============================] - 2s 185ms/step - loss: 4.8587e-04\n",
            "Epoch 18/100\n",
            "12/12 [==============================] - 2s 175ms/step - loss: 3.9491e-04\n",
            "Epoch 19/100\n",
            "12/12 [==============================] - 2s 131ms/step - loss: 3.4635e-04\n",
            "Epoch 20/100\n",
            "12/12 [==============================] - 2s 129ms/step - loss: 4.0573e-04\n",
            "Epoch 21/100\n",
            "12/12 [==============================] - 1s 116ms/step - loss: 3.6851e-04\n",
            "Epoch 22/100\n",
            "12/12 [==============================] - 2s 133ms/step - loss: 3.9086e-04\n",
            "Epoch 23/100\n",
            "12/12 [==============================] - 1s 117ms/step - loss: 3.5250e-04\n",
            "Epoch 24/100\n",
            "12/12 [==============================] - 1s 118ms/step - loss: 3.3118e-04\n",
            "Epoch 25/100\n",
            "12/12 [==============================] - 3s 221ms/step - loss: 3.5439e-04\n",
            "Epoch 26/100\n",
            "12/12 [==============================] - 2s 141ms/step - loss: 3.5819e-04\n",
            "Epoch 27/100\n",
            "12/12 [==============================] - 1s 123ms/step - loss: 3.1417e-04\n",
            "Epoch 28/100\n",
            "12/12 [==============================] - 1s 119ms/step - loss: 3.2734e-04\n",
            "Epoch 29/100\n",
            "12/12 [==============================] - 2s 128ms/step - loss: 3.2244e-04\n",
            "Epoch 30/100\n",
            "12/12 [==============================] - 1s 119ms/step - loss: 2.9737e-04\n",
            "Epoch 31/100\n",
            "12/12 [==============================] - 1s 119ms/step - loss: 3.0280e-04\n",
            "Epoch 32/100\n",
            "12/12 [==============================] - 2s 127ms/step - loss: 2.9734e-04\n",
            "Epoch 33/100\n",
            "12/12 [==============================] - 2s 207ms/step - loss: 3.2745e-04\n",
            "Epoch 34/100\n",
            "12/12 [==============================] - 2s 132ms/step - loss: 3.0322e-04\n",
            "Epoch 35/100\n",
            "12/12 [==============================] - 2s 132ms/step - loss: 3.1390e-04\n",
            "Epoch 36/100\n",
            "12/12 [==============================] - 2s 125ms/step - loss: 2.7792e-04\n",
            "Epoch 37/100\n",
            "12/12 [==============================] - 1s 117ms/step - loss: 2.6211e-04\n",
            "Epoch 38/100\n",
            "12/12 [==============================] - 1s 118ms/step - loss: 2.6303e-04\n",
            "Epoch 39/100\n",
            "12/12 [==============================] - 2s 131ms/step - loss: 2.4722e-04\n",
            "Epoch 40/100\n",
            "12/12 [==============================] - 2s 161ms/step - loss: 3.1994e-04\n",
            "Epoch 41/100\n",
            "12/12 [==============================] - 2s 173ms/step - loss: 2.7262e-04\n",
            "Epoch 42/100\n",
            "12/12 [==============================] - 1s 120ms/step - loss: 2.6152e-04\n",
            "Epoch 43/100\n",
            "12/12 [==============================] - 2s 127ms/step - loss: 2.6058e-04\n",
            "Epoch 44/100\n",
            "12/12 [==============================] - 1s 119ms/step - loss: 2.4829e-04\n",
            "Epoch 45/100\n",
            "12/12 [==============================] - 2s 125ms/step - loss: 2.4737e-04\n",
            "Epoch 46/100\n",
            "12/12 [==============================] - 1s 119ms/step - loss: 2.2034e-04\n",
            "Epoch 47/100\n",
            "12/12 [==============================] - 1s 119ms/step - loss: 2.1659e-04\n",
            "Epoch 48/100\n",
            "12/12 [==============================] - 2s 167ms/step - loss: 2.3023e-04\n",
            "Epoch 49/100\n",
            "12/12 [==============================] - 2s 173ms/step - loss: 3.1624e-04\n",
            "Epoch 50/100\n",
            "12/12 [==============================] - 1s 120ms/step - loss: 2.4755e-04\n",
            "Epoch 51/100\n",
            "12/12 [==============================] - 1s 117ms/step - loss: 2.4400e-04\n",
            "Epoch 52/100\n",
            "12/12 [==============================] - 1s 118ms/step - loss: 2.3288e-04\n",
            "Epoch 53/100\n",
            "12/12 [==============================] - 1s 123ms/step - loss: 2.3792e-04\n",
            "Epoch 54/100\n",
            "12/12 [==============================] - 2s 124ms/step - loss: 2.4903e-04\n",
            "Epoch 55/100\n",
            "12/12 [==============================] - 1s 121ms/step - loss: 2.2407e-04\n",
            "Epoch 56/100\n",
            "12/12 [==============================] - 2s 197ms/step - loss: 2.0405e-04\n",
            "Epoch 57/100\n",
            "12/12 [==============================] - 2s 160ms/step - loss: 2.2089e-04\n",
            "Epoch 58/100\n",
            "12/12 [==============================] - 2s 139ms/step - loss: 2.3001e-04\n",
            "Epoch 59/100\n",
            "12/12 [==============================] - 2s 158ms/step - loss: 2.2500e-04\n",
            "Epoch 60/100\n",
            "12/12 [==============================] - 1s 125ms/step - loss: 1.9620e-04\n",
            "Epoch 61/100\n",
            "12/12 [==============================] - 1s 120ms/step - loss: 2.0594e-04\n",
            "Epoch 62/100\n",
            "12/12 [==============================] - 1s 120ms/step - loss: 2.2841e-04\n",
            "Epoch 63/100\n",
            "12/12 [==============================] - 2s 173ms/step - loss: 2.0092e-04\n",
            "Epoch 64/100\n",
            "12/12 [==============================] - 2s 188ms/step - loss: 1.9753e-04\n",
            "Epoch 65/100\n",
            "12/12 [==============================] - 2s 137ms/step - loss: 2.0565e-04\n",
            "Epoch 66/100\n",
            "12/12 [==============================] - 1s 118ms/step - loss: 1.9488e-04\n",
            "Epoch 67/100\n",
            "12/12 [==============================] - 1s 119ms/step - loss: 2.3505e-04\n",
            "Epoch 68/100\n",
            "12/12 [==============================] - 1s 119ms/step - loss: 1.8645e-04\n",
            "Epoch 69/100\n",
            "12/12 [==============================] - 1s 118ms/step - loss: 2.1746e-04\n",
            "Epoch 70/100\n",
            "12/12 [==============================] - 1s 118ms/step - loss: 2.2159e-04\n",
            "Epoch 71/100\n",
            "12/12 [==============================] - 2s 176ms/step - loss: 2.4128e-04\n",
            "Epoch 72/100\n",
            "12/12 [==============================] - 2s 157ms/step - loss: 2.0139e-04\n",
            "Epoch 73/100\n",
            "12/12 [==============================] - 1s 118ms/step - loss: 2.0019e-04\n",
            "Epoch 74/100\n",
            "12/12 [==============================] - 1s 120ms/step - loss: 2.0661e-04\n",
            "Epoch 75/100\n",
            "12/12 [==============================] - 1s 120ms/step - loss: 1.7741e-04\n",
            "Epoch 76/100\n",
            "12/12 [==============================] - 2s 125ms/step - loss: 1.7955e-04\n",
            "Epoch 77/100\n",
            "12/12 [==============================] - 2s 128ms/step - loss: 1.9236e-04\n",
            "Epoch 78/100\n",
            "12/12 [==============================] - 1s 118ms/step - loss: 1.7955e-04\n",
            "Epoch 79/100\n",
            "12/12 [==============================] - 2s 185ms/step - loss: 1.7672e-04\n",
            "Epoch 80/100\n",
            "12/12 [==============================] - 2s 154ms/step - loss: 2.1995e-04\n",
            "Epoch 81/100\n",
            "12/12 [==============================] - 1s 121ms/step - loss: 1.9404e-04\n",
            "Epoch 82/100\n",
            "12/12 [==============================] - 1s 119ms/step - loss: 2.0390e-04\n",
            "Epoch 83/100\n",
            "12/12 [==============================] - 1s 126ms/step - loss: 1.8526e-04\n",
            "Epoch 84/100\n",
            "12/12 [==============================] - 2s 141ms/step - loss: 1.8424e-04\n",
            "Epoch 85/100\n",
            "12/12 [==============================] - 2s 125ms/step - loss: 2.0393e-04\n",
            "Epoch 86/100\n",
            "12/12 [==============================] - 1s 117ms/step - loss: 2.0522e-04\n",
            "Epoch 87/100\n",
            "12/12 [==============================] - 2s 202ms/step - loss: 1.6512e-04\n",
            "Epoch 88/100\n",
            "12/12 [==============================] - 2s 123ms/step - loss: 1.8652e-04\n",
            "Epoch 89/100\n",
            "12/12 [==============================] - 1s 123ms/step - loss: 1.7567e-04\n",
            "Epoch 90/100\n",
            "12/12 [==============================] - 1s 123ms/step - loss: 1.8625e-04\n",
            "Epoch 91/100\n",
            "12/12 [==============================] - 2s 131ms/step - loss: 1.6340e-04\n",
            "Epoch 92/100\n",
            "12/12 [==============================] - 1s 120ms/step - loss: 1.6754e-04\n",
            "Epoch 93/100\n",
            "12/12 [==============================] - 1s 118ms/step - loss: 1.6103e-04\n",
            "Epoch 94/100\n",
            "12/12 [==============================] - 1s 124ms/step - loss: 1.7129e-04\n",
            "Epoch 95/100\n",
            "12/12 [==============================] - 2s 205ms/step - loss: 1.7515e-04\n",
            "Epoch 96/100\n",
            "12/12 [==============================] - 1s 118ms/step - loss: 2.3065e-04\n",
            "Epoch 97/100\n",
            "12/12 [==============================] - 1s 118ms/step - loss: 2.2386e-04\n",
            "Epoch 98/100\n",
            "12/12 [==============================] - 1s 120ms/step - loss: 1.9057e-04\n",
            "Epoch 99/100\n",
            "12/12 [==============================] - 1s 119ms/step - loss: 1.5173e-04\n",
            "Epoch 100/100\n",
            "12/12 [==============================] - 1s 120ms/step - loss: 1.9569e-04\n"
          ]
        },
        {
          "output_type": "execute_result",
          "data": {
            "text/plain": [
              "<keras.callbacks.History at 0x7d0b8b58bfd0>"
            ]
          },
          "metadata": {},
          "execution_count": 158
        }
      ]
    },
    {
      "cell_type": "code",
      "source": [
        "data_set=pd.read_csv(\"/content/AAPL.csv\")\n",
        "actual_stock_price=data_set.iloc[:,4:5].values"
      ],
      "metadata": {
        "id": "vMpvgiagV6NP"
      },
      "execution_count": null,
      "outputs": []
    },
    {
      "cell_type": "code",
      "source": [
        "dataset_total=pd.concat((df['open'],data_set['open']),axis=0)\n",
        "input=dataset_total[len(dataset_total)-len(data_set)-60:].values\n",
        "\n",
        "input=input.reshape(-1,1)\n",
        "input=scaler.transform(input)\n",
        "\n",
        "x_test=[]\n",
        "for i in range (130,1258):\n",
        "   x_test.append(input[i-60:i,0])\n",
        "x_test=np.array(x_test)\n",
        "x_test=np.reshape(x_test,(x_test.shape[0],x_test.shape[1],1))\n"
      ],
      "metadata": {
        "id": "2Q2DIsvfWljG"
      },
      "execution_count": null,
      "outputs": []
    },
    {
      "cell_type": "code",
      "source": [
        "predicted_stock_price=regressor.predict(x_test)\n",
        "predicted_stock_price=scaler.inverse_transform(predicted_stock_price)"
      ],
      "metadata": {
        "id": "FWRWWM2KX2GQ",
        "colab": {
          "base_uri": "https://localhost:8080/"
        },
        "outputId": "7f905ffc-9685-483c-811a-b7f42a9063ba"
      },
      "execution_count": null,
      "outputs": [
        {
          "output_type": "stream",
          "name": "stdout",
          "text": [
            "36/36 [==============================] - 4s 49ms/step\n"
          ]
        }
      ]
    },
    {
      "cell_type": "code",
      "source": [
        "plt.plot(actual_stock_price , color=\"red\", label=\"Actual Apple Stock Price\")\n",
        "plt.plot(predicted_stock_price, color=\"blue\", label=\"Predicted Apple Stock Price\")\n",
        "plt.title('Apple Stock Price Prediction')\n",
        "plt.ylabel('Apple Stock Price')\n",
        "plt.legend()"
      ],
      "metadata": {
        "id": "Shh07vtzXmtL",
        "colab": {
          "base_uri": "https://localhost:8080/"
        },
        "outputId": "3306cbfb-852d-4194-f799-2322eeaca844"
      },
      "execution_count": null,
      "outputs": [
        {
          "output_type": "execute_result",
          "data": {
            "text/plain": [
              "<matplotlib.legend.Legend at 0x7d0b912f5b10>"
            ]
          },
          "metadata": {},
          "execution_count": 162
        },
        {
          "output_type": "display_data",
          "data": {
            "text/plain": [
              "<Figure size 640x480 with 1 Axes>"
            ],
            "image/png": "[encoded data removed]"
          },
          "metadata": {}
        }
      ]
    },
    {
      "cell_type": "code",
      "source": [],
      "metadata": {
        "id": "CC5yJtkdteGl"
      },
      "execution_count": null,
      "outputs": []
    }
  ]
}